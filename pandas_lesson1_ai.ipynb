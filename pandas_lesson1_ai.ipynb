{
 "cells": [
  {
   "cell_type": "code",
   "execution_count": 2,
   "id": "9b0eb41c-eeaa-42e2-bfc7-dd75e85b3cc4",
   "metadata": {},
   "outputs": [],
   "source": [
    "import numpy as np\n",
    "from IPython.display import display\n",
    "import pandas as pd"
   ]
  },
  {
   "cell_type": "code",
   "execution_count": 5,
   "id": "c3bb62e3-15b4-4acb-9cdf-b7d419f250e7",
   "metadata": {},
   "outputs": [
    {
     "name": "stdout",
     "output_type": "stream",
     "text": [
      "0     10\n",
      "1    100\n",
      "2     15\n",
      "3     35\n",
      "4     35\n",
      "dtype: int64\n",
      "<class 'pandas.core.series.Series'>\n"
     ]
    },
    {
     "data": {
      "text/plain": [
       "array([ 10, 100,  15,  35,  35])"
      ]
     },
     "execution_count": 5,
     "metadata": {},
     "output_type": "execute_result"
    }
   ],
   "source": [
    "pd_series = pd.Series([10, 100, 15, 35, 35])\n",
    "print(pd_series)\n",
    "print(type(pd_series))\n",
    "\n",
    "np1 = np.array([10, 100, 15, 35, 35])\n",
    "np1  # no index presented"
   ]
  },
  {
   "cell_type": "code",
   "execution_count": 41,
   "id": "2c883b0f-4dff-4973-992b-d7519f3e333a",
   "metadata": {},
   "outputs": [
    {
     "name": "stdout",
     "output_type": "stream",
     "text": [
      "USA       1776\n",
      "CANADA    1867\n",
      "MEXICO    1821\n",
      "dtype: int64\n",
      "\n"
     ]
    },
    {
     "data": {
      "text/plain": [
       "0    1776\n",
       "1    1867\n",
       "2    1821\n",
       "dtype: int64"
      ]
     },
     "metadata": {},
     "output_type": "display_data"
    },
    {
     "data": {
      "text/plain": [
       "1776"
      ]
     },
     "metadata": {},
     "output_type": "display_data"
    },
    {
     "name": "stdout",
     "output_type": "stream",
     "text": [
      "\n"
     ]
    },
    {
     "data": {
      "text/plain": [
       "USA       1776\n",
       "CANADA    1867\n",
       "MEXICO    1821\n",
       "dtype: int64"
      ]
     },
     "metadata": {},
     "output_type": "display_data"
    },
    {
     "name": "stdout",
     "output_type": "stream",
     "text": [
      "\n"
     ]
    },
    {
     "data": {
      "text/plain": [
       "1776"
      ]
     },
     "metadata": {},
     "output_type": "display_data"
    },
    {
     "data": {
      "text/plain": [
       "'CANADA'"
      ]
     },
     "metadata": {},
     "output_type": "display_data"
    },
    {
     "data": {
      "text/plain": [
       "1867"
      ]
     },
     "metadata": {},
     "output_type": "display_data"
    },
    {
     "name": "stdout",
     "output_type": "stream",
     "text": [
      "\n"
     ]
    },
    {
     "data": {
      "text/plain": [
       "array([1776, 1867, 1821], dtype=int64)"
      ]
     },
     "metadata": {},
     "output_type": "display_data"
    },
    {
     "data": {
      "text/plain": [
       "Index(['USA', 'CANADA', 'MEXICO'], dtype='object')"
      ]
     },
     "metadata": {},
     "output_type": "display_data"
    }
   ],
   "source": [
    "\n",
    "# create label index\n",
    "pd_series = pd.Series(data=[1776, 1867, 1821] , index=['USA', 'CANADA', 'MEXICO'])\n",
    "print(pd_series)\n",
    "print()\n",
    "\n",
    "# remove index\n",
    "# pd_series = pd_series.reset_index(drop=True)\n",
    "pd_series.reset_index(drop=True, inplace=True)\n",
    "display(pd_series)\n",
    "display(pd_series[0])\n",
    "print()\n",
    "\n",
    "# restore index\n",
    "pd_series.index = [\"USA\", \"CANADA\", \"MEXICO\"]\n",
    "display(pd_series)\n",
    "\n",
    "print()\n",
    "display(pd_series.iloc[0])\n",
    "display('CANADA', pd_series['CANADA'])\n",
    "\n",
    "print()\n",
    "display(pd_series.values)\n",
    "display(pd_series.index)\n"
   ]
  },
  {
   "cell_type": "code",
   "execution_count": 46,
   "id": "10e67990-4896-4957-ae83-e5aa80927341",
   "metadata": {},
   "outputs": [
    {
     "name": "stdout",
     "output_type": "stream",
     "text": [
      "USA       1776\n",
      "CANADA    1867\n",
      "MEXICO    1823\n",
      "dtype: int64\n",
      "\n",
      "Index(['USA', 'CANADA', 'MEXICO'], dtype='object')\n",
      "Index(['USA', 'CANADA', 'MEXICO'], dtype='object')\n"
     ]
    }
   ],
   "source": [
    "# create label index\n",
    "pd_series = pd.Series({'USA':1776, 'CANADA': 1867, 'MEXICO': 1823})\n",
    "print(pd_series)\n",
    "print()\n",
    "print(pd_series.keys())\n",
    "print(pd_series.index)\n"
   ]
  },
  {
   "cell_type": "code",
   "execution_count": null,
   "id": "2337e523-ff26-4bf8-8b57-2dbb42d7e617",
   "metadata": {},
   "outputs": [],
   "source": [
    "# create Series\n",
    "# store1\n",
    "# Laptop  3000\n",
    "# Screen  1000\n",
    "# Audio    500\n",
    "\n",
    "# store2\n",
    "# Screen   300\n",
    "# Audio    800\n",
    "# Mouse     50\n",
    "\n",
    "# create 2 Series for the stores above (1st from list, 2nd from dict)\n",
    "# print the price of the 'Laptop' from the 1st store use []\n",
    "# print the price of the 'Audio' from the 2nd store use []\n",
    "# add the prices (using add function) and print the results\n",
    "\n",
    "# pd_series = pd.Series(data=[1776, 1867, 1821] , index=['USA', 'CANADA', 'MEXICO']) === list\n",
    "# pd_series = pd.Series({'USA':1776, 'CANADA': 1867, 'MEXICO': 1823}) === dict\n"
   ]
  },
  {
   "cell_type": "code",
   "execution_count": 58,
   "id": "c2ac8157-e4fc-4c91-92f9-b3f483ec4cc0",
   "metadata": {},
   "outputs": [
    {
     "name": "stdout",
     "output_type": "stream",
     "text": [
      "\n",
      "first_series.dtype int64\n",
      "\n",
      "concat_series\n",
      "Brazil     70.0\n",
      "China     800.0\n",
      "Japan     100.0\n",
      "USA       450.0\n",
      "dtype: float64\n",
      "\n",
      "concat_series.astype(int)\n",
      "Brazil     70\n",
      "China     800\n",
      "Japan     100\n",
      "USA       450\n",
      "dtype: int32\n"
     ]
    }
   ],
   "source": [
    "first_series = pd.Series({'Japan': 100, 'China': 450, 'USA': 250})\n",
    "second_series = pd.Series({'Brazil': 70, 'China': 350, 'USA': 200})\n",
    "\n",
    "print('\\nfirst_series.dtype', first_series.dtype)\n",
    "\n",
    "concat_series = first_series.add(second_series, fill_value=0)\n",
    "print('\\nconcat_series')\n",
    "print(concat_series)  # after add the type becomes float\n",
    "\n",
    "print('\\nconcat_series.astype(int)')\n",
    "print(concat_series.astype(int))"
   ]
  },
  {
   "cell_type": "code",
   "execution_count": 67,
   "id": "582656a9-5e64-4597-95eb-0156be491f44",
   "metadata": {},
   "outputs": [
    {
     "data": {
      "text/html": [
       "<div>\n",
       "<style scoped>\n",
       "    .dataframe tbody tr th:only-of-type {\n",
       "        vertical-align: middle;\n",
       "    }\n",
       "\n",
       "    .dataframe tbody tr th {\n",
       "        vertical-align: top;\n",
       "    }\n",
       "\n",
       "    .dataframe thead th {\n",
       "        text-align: right;\n",
       "    }\n",
       "</style>\n",
       "<table border=\"1\" class=\"dataframe\">\n",
       "  <thead>\n",
       "    <tr style=\"text-align: right;\">\n",
       "      <th></th>\n",
       "      <th>0</th>\n",
       "      <th>1</th>\n",
       "      <th>2</th>\n",
       "    </tr>\n",
       "  </thead>\n",
       "  <tbody>\n",
       "    <tr>\n",
       "      <th>0</th>\n",
       "      <td>8</td>\n",
       "      <td>24</td>\n",
       "      <td>67</td>\n",
       "    </tr>\n",
       "    <tr>\n",
       "      <th>1</th>\n",
       "      <td>87</td>\n",
       "      <td>79</td>\n",
       "      <td>48</td>\n",
       "    </tr>\n",
       "    <tr>\n",
       "      <th>2</th>\n",
       "      <td>10</td>\n",
       "      <td>94</td>\n",
       "      <td>52</td>\n",
       "    </tr>\n",
       "    <tr>\n",
       "      <th>3</th>\n",
       "      <td>98</td>\n",
       "      <td>53</td>\n",
       "      <td>66</td>\n",
       "    </tr>\n",
       "  </tbody>\n",
       "</table>\n",
       "</div>"
      ],
      "text/plain": [
       "    0   1   2\n",
       "0   8  24  67\n",
       "1  87  79  48\n",
       "2  10  94  52\n",
       "3  98  53  66"
      ]
     },
     "execution_count": 67,
     "metadata": {},
     "output_type": "execute_result"
    }
   ],
   "source": [
    "np.random.seed(100)\n",
    "my_data = np.random.randint(0, 101, (4, 3))\n",
    "\n",
    "# display(pd.DataFrame(my_data))\n",
    "pd.DataFrame(my_data)"
   ]
  },
  {
   "cell_type": "code",
   "execution_count": 99,
   "id": "d1841920-d8aa-4c7a-a5c1-336a723628a4",
   "metadata": {},
   "outputs": [
    {
     "data": {
      "text/html": [
       "<div>\n",
       "<style scoped>\n",
       "    .dataframe tbody tr th:only-of-type {\n",
       "        vertical-align: middle;\n",
       "    }\n",
       "\n",
       "    .dataframe tbody tr th {\n",
       "        vertical-align: top;\n",
       "    }\n",
       "\n",
       "    .dataframe thead th {\n",
       "        text-align: right;\n",
       "    }\n",
       "</style>\n",
       "<table border=\"1\" class=\"dataframe\">\n",
       "  <thead>\n",
       "    <tr style=\"text-align: right;\">\n",
       "      <th></th>\n",
       "      <th>Jan</th>\n",
       "      <th>Feb</th>\n",
       "      <th>Mar</th>\n",
       "    </tr>\n",
       "  </thead>\n",
       "  <tbody>\n",
       "    <tr>\n",
       "      <th>CA</th>\n",
       "      <td>8</td>\n",
       "      <td>24</td>\n",
       "      <td>67</td>\n",
       "    </tr>\n",
       "    <tr>\n",
       "      <th>NY</th>\n",
       "      <td>87</td>\n",
       "      <td>79</td>\n",
       "      <td>48</td>\n",
       "    </tr>\n",
       "    <tr>\n",
       "      <th>AZ</th>\n",
       "      <td>10</td>\n",
       "      <td>94</td>\n",
       "      <td>52</td>\n",
       "    </tr>\n",
       "    <tr>\n",
       "      <th>TX</th>\n",
       "      <td>98</td>\n",
       "      <td>53</td>\n",
       "      <td>66</td>\n",
       "    </tr>\n",
       "  </tbody>\n",
       "</table>\n",
       "</div>"
      ],
      "text/plain": [
       "    Jan  Feb  Mar\n",
       "CA    8   24   67\n",
       "NY   87   79   48\n",
       "AZ   10   94   52\n",
       "TX   98   53   66"
      ]
     },
     "metadata": {},
     "output_type": "display_data"
    },
    {
     "data": {
      "text/plain": [
       "pandas.core.series.Series"
      ]
     },
     "metadata": {},
     "output_type": "display_data"
    },
    {
     "name": "stdout",
     "output_type": "stream",
     "text": [
      "\n",
      "== df.loc['AZ']\n"
     ]
    },
    {
     "data": {
      "text/plain": [
       "Jan    10\n",
       "Feb    94\n",
       "Mar    52\n",
       "Name: AZ, dtype: int32"
      ]
     },
     "metadata": {},
     "output_type": "display_data"
    },
    {
     "name": "stdout",
     "output_type": "stream",
     "text": [
      "\n"
     ]
    },
    {
     "data": {
      "text/plain": [
       "pandas.core.series.Series"
      ]
     },
     "metadata": {},
     "output_type": "display_data"
    },
    {
     "name": "stdout",
     "output_type": "stream",
     "text": [
      "\n",
      "\n",
      "== df['Jan']\n"
     ]
    },
    {
     "data": {
      "text/plain": [
       "CA     8\n",
       "NY    87\n",
       "AZ    10\n",
       "TX    98\n",
       "Name: Jan, dtype: int32"
      ]
     },
     "metadata": {},
     "output_type": "display_data"
    },
    {
     "name": "stdout",
     "output_type": "stream",
     "text": [
      "\n"
     ]
    },
    {
     "data": {
      "text/plain": [
       "Jan     8\n",
       "Feb    24\n",
       "Mar    67\n",
       "Name: CA, dtype: int32"
      ]
     },
     "metadata": {},
     "output_type": "display_data"
    },
    {
     "name": "stdout",
     "output_type": "stream",
     "text": [
      "\n",
      "=== df.loc['NY':'AZ']\n"
     ]
    },
    {
     "data": {
      "text/html": [
       "<div>\n",
       "<style scoped>\n",
       "    .dataframe tbody tr th:only-of-type {\n",
       "        vertical-align: middle;\n",
       "    }\n",
       "\n",
       "    .dataframe tbody tr th {\n",
       "        vertical-align: top;\n",
       "    }\n",
       "\n",
       "    .dataframe thead th {\n",
       "        text-align: right;\n",
       "    }\n",
       "</style>\n",
       "<table border=\"1\" class=\"dataframe\">\n",
       "  <thead>\n",
       "    <tr style=\"text-align: right;\">\n",
       "      <th></th>\n",
       "      <th>Jan</th>\n",
       "      <th>Feb</th>\n",
       "      <th>Mar</th>\n",
       "    </tr>\n",
       "  </thead>\n",
       "  <tbody>\n",
       "    <tr>\n",
       "      <th>NY</th>\n",
       "      <td>87</td>\n",
       "      <td>79</td>\n",
       "      <td>48</td>\n",
       "    </tr>\n",
       "    <tr>\n",
       "      <th>AZ</th>\n",
       "      <td>10</td>\n",
       "      <td>94</td>\n",
       "      <td>52</td>\n",
       "    </tr>\n",
       "  </tbody>\n",
       "</table>\n",
       "</div>"
      ],
      "text/plain": [
       "    Jan  Feb  Mar\n",
       "NY   87   79   48\n",
       "AZ   10   94   52"
      ]
     },
     "metadata": {},
     "output_type": "display_data"
    },
    {
     "name": "stdout",
     "output_type": "stream",
     "text": [
      "\n",
      "=== df.iloc[:3]\n"
     ]
    },
    {
     "data": {
      "text/html": [
       "<div>\n",
       "<style scoped>\n",
       "    .dataframe tbody tr th:only-of-type {\n",
       "        vertical-align: middle;\n",
       "    }\n",
       "\n",
       "    .dataframe tbody tr th {\n",
       "        vertical-align: top;\n",
       "    }\n",
       "\n",
       "    .dataframe thead th {\n",
       "        text-align: right;\n",
       "    }\n",
       "</style>\n",
       "<table border=\"1\" class=\"dataframe\">\n",
       "  <thead>\n",
       "    <tr style=\"text-align: right;\">\n",
       "      <th></th>\n",
       "      <th>Jan</th>\n",
       "      <th>Feb</th>\n",
       "      <th>Mar</th>\n",
       "    </tr>\n",
       "  </thead>\n",
       "  <tbody>\n",
       "    <tr>\n",
       "      <th>CA</th>\n",
       "      <td>8</td>\n",
       "      <td>24</td>\n",
       "      <td>67</td>\n",
       "    </tr>\n",
       "    <tr>\n",
       "      <th>NY</th>\n",
       "      <td>87</td>\n",
       "      <td>79</td>\n",
       "      <td>48</td>\n",
       "    </tr>\n",
       "    <tr>\n",
       "      <th>AZ</th>\n",
       "      <td>10</td>\n",
       "      <td>94</td>\n",
       "      <td>52</td>\n",
       "    </tr>\n",
       "  </tbody>\n",
       "</table>\n",
       "</div>"
      ],
      "text/plain": [
       "    Jan  Feb  Mar\n",
       "CA    8   24   67\n",
       "NY   87   79   48\n",
       "AZ   10   94   52"
      ]
     },
     "metadata": {},
     "output_type": "display_data"
    },
    {
     "name": "stdout",
     "output_type": "stream",
     "text": [
      "\n",
      "=== df.iloc[::-1]\n"
     ]
    },
    {
     "data": {
      "text/html": [
       "<div>\n",
       "<style scoped>\n",
       "    .dataframe tbody tr th:only-of-type {\n",
       "        vertical-align: middle;\n",
       "    }\n",
       "\n",
       "    .dataframe tbody tr th {\n",
       "        vertical-align: top;\n",
       "    }\n",
       "\n",
       "    .dataframe thead th {\n",
       "        text-align: right;\n",
       "    }\n",
       "</style>\n",
       "<table border=\"1\" class=\"dataframe\">\n",
       "  <thead>\n",
       "    <tr style=\"text-align: right;\">\n",
       "      <th></th>\n",
       "      <th>Jan</th>\n",
       "      <th>Feb</th>\n",
       "      <th>Mar</th>\n",
       "    </tr>\n",
       "  </thead>\n",
       "  <tbody>\n",
       "    <tr>\n",
       "      <th>TX</th>\n",
       "      <td>98</td>\n",
       "      <td>53</td>\n",
       "      <td>66</td>\n",
       "    </tr>\n",
       "    <tr>\n",
       "      <th>AZ</th>\n",
       "      <td>10</td>\n",
       "      <td>94</td>\n",
       "      <td>52</td>\n",
       "    </tr>\n",
       "    <tr>\n",
       "      <th>NY</th>\n",
       "      <td>87</td>\n",
       "      <td>79</td>\n",
       "      <td>48</td>\n",
       "    </tr>\n",
       "    <tr>\n",
       "      <th>CA</th>\n",
       "      <td>8</td>\n",
       "      <td>24</td>\n",
       "      <td>67</td>\n",
       "    </tr>\n",
       "  </tbody>\n",
       "</table>\n",
       "</div>"
      ],
      "text/plain": [
       "    Jan  Feb  Mar\n",
       "TX   98   53   66\n",
       "AZ   10   94   52\n",
       "NY   87   79   48\n",
       "CA    8   24   67"
      ]
     },
     "metadata": {},
     "output_type": "display_data"
    }
   ],
   "source": [
    "np.random.seed(100)\n",
    "my_data = np.random.randint(0, 101, (4, 3))\n",
    "row_index = ['CA', 'NY', 'AZ', 'TX']\n",
    "col_names = ['Jan', 'Feb', 'Mar']\n",
    "             \n",
    "df = pd.DataFrame(my_data, index=my_index, columns=col_names)\n",
    "display(df)\n",
    "\n",
    "# index by row name == df.loc\n",
    "# index by column name = df['column-name']\n",
    "# index by numeric location == df.iloc\n",
    "# index and range == df.iloc[ : ]  df.loc[ : ]\n",
    "\n",
    "display(type(df.loc['AZ']))\n",
    "print(\"\\n== df.loc['AZ']\")\n",
    "display(df.loc['AZ'])\n",
    "print()\n",
    "display(type(df['Jan']))\n",
    "print()\n",
    "print(\"\\n== df['Jan']\")\n",
    "display(df['Jan'])\n",
    "print()\n",
    "\n",
    "display(df.iloc[0])  # first-row \n",
    "\n",
    "print(\"\\n=== df.loc['NY':'AZ']\")\n",
    "display(df.loc['NY':'AZ'])\n",
    "\n",
    "print(\"\\n=== df.iloc[:3]\")  # first 3 rows\n",
    "display(df.iloc[:3])\n",
    "\n",
    "print(\"\\n=== df.iloc[::-1]\")  # reverse\n",
    "display(df.iloc[::-1])"
   ]
  },
  {
   "cell_type": "code",
   "execution_count": 105,
   "id": "89b7b2b6-1c4b-4534-98eb-65e701b03a34",
   "metadata": {},
   "outputs": [
    {
     "data": {
      "text/html": [
       "<div>\n",
       "<style scoped>\n",
       "    .dataframe tbody tr th:only-of-type {\n",
       "        vertical-align: middle;\n",
       "    }\n",
       "\n",
       "    .dataframe tbody tr th {\n",
       "        vertical-align: top;\n",
       "    }\n",
       "\n",
       "    .dataframe thead th {\n",
       "        text-align: right;\n",
       "    }\n",
       "</style>\n",
       "<table border=\"1\" class=\"dataframe\">\n",
       "  <thead>\n",
       "    <tr style=\"text-align: right;\">\n",
       "      <th></th>\n",
       "      <th>Jan</th>\n",
       "      <th>Feb</th>\n",
       "      <th>Mar</th>\n",
       "    </tr>\n",
       "  </thead>\n",
       "  <tbody>\n",
       "    <tr>\n",
       "      <th>CA</th>\n",
       "      <td>8</td>\n",
       "      <td>24</td>\n",
       "      <td>67</td>\n",
       "    </tr>\n",
       "    <tr>\n",
       "      <th>NY</th>\n",
       "      <td>87</td>\n",
       "      <td>79</td>\n",
       "      <td>48</td>\n",
       "    </tr>\n",
       "    <tr>\n",
       "      <th>AZ</th>\n",
       "      <td>10</td>\n",
       "      <td>94</td>\n",
       "      <td>52</td>\n",
       "    </tr>\n",
       "    <tr>\n",
       "      <th>TX</th>\n",
       "      <td>98</td>\n",
       "      <td>53</td>\n",
       "      <td>66</td>\n",
       "    </tr>\n",
       "  </tbody>\n",
       "</table>\n",
       "</div>"
      ],
      "text/plain": [
       "    Jan  Feb  Mar\n",
       "CA    8   24   67\n",
       "NY   87   79   48\n",
       "AZ   10   94   52\n",
       "TX   98   53   66"
      ]
     },
     "metadata": {},
     "output_type": "display_data"
    },
    {
     "data": {
      "text/html": [
       "<div>\n",
       "<style scoped>\n",
       "    .dataframe tbody tr th:only-of-type {\n",
       "        vertical-align: middle;\n",
       "    }\n",
       "\n",
       "    .dataframe tbody tr th {\n",
       "        vertical-align: top;\n",
       "    }\n",
       "\n",
       "    .dataframe thead th {\n",
       "        text-align: right;\n",
       "    }\n",
       "</style>\n",
       "<table border=\"1\" class=\"dataframe\">\n",
       "  <thead>\n",
       "    <tr style=\"text-align: right;\">\n",
       "      <th></th>\n",
       "      <th>Jan</th>\n",
       "      <th>Feb</th>\n",
       "    </tr>\n",
       "  </thead>\n",
       "  <tbody>\n",
       "    <tr>\n",
       "      <th>CA</th>\n",
       "      <td>8</td>\n",
       "      <td>24</td>\n",
       "    </tr>\n",
       "    <tr>\n",
       "      <th>NY</th>\n",
       "      <td>87</td>\n",
       "      <td>79</td>\n",
       "    </tr>\n",
       "    <tr>\n",
       "      <th>AZ</th>\n",
       "      <td>10</td>\n",
       "      <td>94</td>\n",
       "    </tr>\n",
       "    <tr>\n",
       "      <th>TX</th>\n",
       "      <td>98</td>\n",
       "      <td>53</td>\n",
       "    </tr>\n",
       "  </tbody>\n",
       "</table>\n",
       "</div>"
      ],
      "text/plain": [
       "    Jan  Feb\n",
       "CA    8   24\n",
       "NY   87   79\n",
       "AZ   10   94\n",
       "TX   98   53"
      ]
     },
     "execution_count": 105,
     "metadata": {},
     "output_type": "execute_result"
    }
   ],
   "source": [
    "np.random.seed(100)\n",
    "my_data = np.random.randint(0, 101, (4, 3))\n",
    "row_index = ['CA', 'NY', 'AZ', 'TX']\n",
    "col_names = ['Jan', 'Feb', 'Mar']\n",
    "\n",
    "df = pd.DataFrame(my_data, index=my_index, columns=col_names)\n",
    "display(df)\n",
    "\n",
    "df[['Jan', 'Feb']]  # multi column\n",
    "# rows AZ to Tx column feb\n",
    "# rows CA to AZ column Jan, feb\n",
    "# rows 0..2 column Jan\n",
    "# *bonus: rows 0..2 column 0..1\n"
   ]
  },
  {
   "cell_type": "code",
   "execution_count": null,
   "id": "92fa295c-d207-43dd-ad82-63afb2656dac",
   "metadata": {},
   "outputs": [],
   "source": []
  }
 ],
 "metadata": {
  "kernelspec": {
   "display_name": "Python 3 (ipykernel)",
   "language": "python",
   "name": "python3"
  },
  "language_info": {
   "codemirror_mode": {
    "name": "ipython",
    "version": 3
   },
   "file_extension": ".py",
   "mimetype": "text/x-python",
   "name": "python",
   "nbconvert_exporter": "python",
   "pygments_lexer": "ipython3",
   "version": "3.11.7"
  }
 },
 "nbformat": 4,
 "nbformat_minor": 5
}
