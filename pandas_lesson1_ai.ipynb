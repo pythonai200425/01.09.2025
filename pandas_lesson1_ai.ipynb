{
 "cells": [
  {
   "cell_type": "code",
   "execution_count": 2,
   "id": "9b0eb41c-eeaa-42e2-bfc7-dd75e85b3cc4",
   "metadata": {},
   "outputs": [],
   "source": [
    "import numpy as np\n",
    "from IPython.display import display\n",
    "import pandas as pd"
   ]
  },
  {
   "cell_type": "code",
   "execution_count": 5,
   "id": "c3bb62e3-15b4-4acb-9cdf-b7d419f250e7",
   "metadata": {},
   "outputs": [
    {
     "name": "stdout",
     "output_type": "stream",
     "text": [
      "0     10\n",
      "1    100\n",
      "2     15\n",
      "3     35\n",
      "4     35\n",
      "dtype: int64\n",
      "<class 'pandas.core.series.Series'>\n"
     ]
    },
    {
     "data": {
      "text/plain": [
       "array([ 10, 100,  15,  35,  35])"
      ]
     },
     "execution_count": 5,
     "metadata": {},
     "output_type": "execute_result"
    }
   ],
   "source": [
    "pd_series = pd.Series([10, 100, 15, 35, 35])\n",
    "print(pd_series)\n",
    "print(type(pd_series))\n",
    "\n",
    "np1 = np.array([10, 100, 15, 35, 35])\n",
    "np1  # no index presented"
   ]
  },
  {
   "cell_type": "code",
   "execution_count": 41,
   "id": "2c883b0f-4dff-4973-992b-d7519f3e333a",
   "metadata": {},
   "outputs": [
    {
     "name": "stdout",
     "output_type": "stream",
     "text": [
      "USA       1776\n",
      "CANADA    1867\n",
      "MEXICO    1821\n",
      "dtype: int64\n",
      "\n"
     ]
    },
    {
     "data": {
      "text/plain": [
       "0    1776\n",
       "1    1867\n",
       "2    1821\n",
       "dtype: int64"
      ]
     },
     "metadata": {},
     "output_type": "display_data"
    },
    {
     "data": {
      "text/plain": [
       "1776"
      ]
     },
     "metadata": {},
     "output_type": "display_data"
    },
    {
     "name": "stdout",
     "output_type": "stream",
     "text": [
      "\n"
     ]
    },
    {
     "data": {
      "text/plain": [
       "USA       1776\n",
       "CANADA    1867\n",
       "MEXICO    1821\n",
       "dtype: int64"
      ]
     },
     "metadata": {},
     "output_type": "display_data"
    },
    {
     "name": "stdout",
     "output_type": "stream",
     "text": [
      "\n"
     ]
    },
    {
     "data": {
      "text/plain": [
       "1776"
      ]
     },
     "metadata": {},
     "output_type": "display_data"
    },
    {
     "data": {
      "text/plain": [
       "'CANADA'"
      ]
     },
     "metadata": {},
     "output_type": "display_data"
    },
    {
     "data": {
      "text/plain": [
       "1867"
      ]
     },
     "metadata": {},
     "output_type": "display_data"
    },
    {
     "name": "stdout",
     "output_type": "stream",
     "text": [
      "\n"
     ]
    },
    {
     "data": {
      "text/plain": [
       "array([1776, 1867, 1821], dtype=int64)"
      ]
     },
     "metadata": {},
     "output_type": "display_data"
    },
    {
     "data": {
      "text/plain": [
       "Index(['USA', 'CANADA', 'MEXICO'], dtype='object')"
      ]
     },
     "metadata": {},
     "output_type": "display_data"
    }
   ],
   "source": [
    "\n",
    "# create label index\n",
    "pd_series = pd.Series(data=[1776, 1867, 1821] , index=['USA', 'CANADA', 'MEXICO'])\n",
    "print(pd_series)\n",
    "print()\n",
    "\n",
    "# remove index\n",
    "# pd_series = pd_series.reset_index(drop=True)\n",
    "pd_series.reset_index(drop=True, inplace=True)\n",
    "display(pd_series)\n",
    "display(pd_series[0])\n",
    "print()\n",
    "\n",
    "# restore index\n",
    "pd_series.index = [\"USA\", \"CANADA\", \"MEXICO\"]\n",
    "display(pd_series)\n",
    "\n",
    "print()\n",
    "display(pd_series.iloc[0])\n",
    "display('CANADA', pd_series['CANADA'])\n",
    "\n",
    "print()\n",
    "display(pd_series.values)\n",
    "display(pd_series.index)\n"
   ]
  },
  {
   "cell_type": "code",
   "execution_count": 46,
   "id": "10e67990-4896-4957-ae83-e5aa80927341",
   "metadata": {},
   "outputs": [
    {
     "name": "stdout",
     "output_type": "stream",
     "text": [
      "USA       1776\n",
      "CANADA    1867\n",
      "MEXICO    1823\n",
      "dtype: int64\n",
      "\n",
      "Index(['USA', 'CANADA', 'MEXICO'], dtype='object')\n",
      "Index(['USA', 'CANADA', 'MEXICO'], dtype='object')\n"
     ]
    }
   ],
   "source": [
    "# create label index\n",
    "pd_series = pd.Series({'USA':1776, 'CANADA': 1867, 'MEXICO': 1823})\n",
    "print(pd_series)\n",
    "print()\n",
    "print(pd_series.keys())\n",
    "print(pd_series.index)\n"
   ]
  },
  {
   "cell_type": "code",
   "execution_count": null,
   "id": "2337e523-ff26-4bf8-8b57-2dbb42d7e617",
   "metadata": {},
   "outputs": [],
   "source": [
    "# create Series\n",
    "# store1\n",
    "# Laptop  3000\n",
    "# Screen  1000\n",
    "# Audio    500\n",
    "\n",
    "# store2\n",
    "# Screen   300\n",
    "# Audio    800\n",
    "# Mouse     50\n",
    "\n",
    "# create 2 Series for the stores above (1st from list, 2nd from dict)\n",
    "# print the price of the Laptop from the 1st store use []\n",
    "# print the price of the Audio from the 2nd store use []\n",
    "# add the prices (using add function) and print the results\n",
    "\n",
    "# pd_series = pd.Series(data=[1776, 1867, 1821] , index=['USA', 'CANADA', 'MEXICO']) === list\n",
    "# pd_series = pd.Series({'USA':1776, 'CANADA': 1867, 'MEXICO': 1823}) === dict\n"
   ]
  }
 ],
 "metadata": {
  "kernelspec": {
   "display_name": "Python 3 (ipykernel)",
   "language": "python",
   "name": "python3"
  },
  "language_info": {
   "codemirror_mode": {
    "name": "ipython",
    "version": 3
   },
   "file_extension": ".py",
   "mimetype": "text/x-python",
   "name": "python",
   "nbconvert_exporter": "python",
   "pygments_lexer": "ipython3",
   "version": "3.11.7"
  }
 },
 "nbformat": 4,
 "nbformat_minor": 5
}
